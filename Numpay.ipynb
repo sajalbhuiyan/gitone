{
  "nbformat": 4,
  "nbformat_minor": 0,
  "metadata": {
    "colab": {
      "provenance": [],
      "authorship_tag": "ABX9TyMQXILuA2HYvxjE9hgpc8Wg",
      "include_colab_link": true
    },
    "kernelspec": {
      "name": "python3",
      "display_name": "Python 3"
    },
    "language_info": {
      "name": "python"
    }
  },
  "cells": [
    {
      "cell_type": "markdown",
      "metadata": {
        "id": "view-in-github",
        "colab_type": "text"
      },
      "source": [
        "<a href=\"https://colab.research.google.com/github/sajalbhuiyan/gitone/blob/main/Numpay.ipynb\" target=\"_parent\"><img src=\"https://colab.research.google.com/assets/colab-badge.svg\" alt=\"Open In Colab\"/></a>"
      ]
    },
    {
      "cell_type": "code",
      "execution_count": 1,
      "metadata": {
        "colab": {
          "base_uri": "https://localhost:8080/"
        },
        "id": "Xzk0sytF8Rnl",
        "outputId": "078b3ca2-14c9-4fc2-a77c-e011cd1eaa3e"
      },
      "outputs": [
        {
          "output_type": "stream",
          "name": "stdout",
          "text": [
            "    Name  Age   Salary\n",
            "0  Sajal   23  5555550\n",
            "1  Walid    5  2939384\n",
            "2  Arman   20  1500000\n"
          ]
        }
      ],
      "source": [
        "import pandas as pd\n",
        "data=pd.DataFrame({\n",
        "    'Name':['Sajal','Walid','Arman'],\n",
        "    'Age':[23,5,20],\n",
        "    'Salary':[5555550,2939384,1500000]\n",
        "})\n",
        "print(data.head())"
      ]
    },
    {
      "cell_type": "code",
      "source": [
        "print(data.describe())"
      ],
      "metadata": {
        "colab": {
          "base_uri": "https://localhost:8080/"
        },
        "id": "BCyOabQ59vQZ",
        "outputId": "a5d6798e-ffe0-42c8-890e-89fa16f2f9b0"
      },
      "execution_count": 2,
      "outputs": [
        {
          "output_type": "stream",
          "name": "stdout",
          "text": [
            "             Age        Salary\n",
            "count   3.000000  3.000000e+00\n",
            "mean   16.000000  3.331645e+06\n",
            "std     9.643651  2.056033e+06\n",
            "min     5.000000  1.500000e+06\n",
            "25%    12.500000  2.219692e+06\n",
            "50%    20.000000  2.939384e+06\n",
            "75%    21.500000  4.247467e+06\n",
            "max    23.000000  5.555550e+06\n"
          ]
        }
      ]
    },
    {
      "cell_type": "code",
      "source": [
        "filter_data=data[data['Age']>20]\n",
        "print(filter_data)"
      ],
      "metadata": {
        "colab": {
          "base_uri": "https://localhost:8080/"
        },
        "id": "sFLUIESK-8Wq",
        "outputId": "688e2b1b-fe63-4951-874c-395ade07766a"
      },
      "execution_count": 4,
      "outputs": [
        {
          "output_type": "stream",
          "name": "stdout",
          "text": [
            "    Name  Age   Salary\n",
            "0  Sajal   23  5555550\n"
          ]
        }
      ]
    }
  ]
}